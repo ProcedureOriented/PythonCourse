{
 "cells": [
  {
   "cell_type": "code",
   "execution_count": 5,
   "metadata": {},
   "outputs": [
    {
     "output_type": "stream",
     "name": "stdout",
     "text": "user defined error\n"
    }
   ],
   "source": [
    "class UserError(BaseException):\n",
    "    def __init__(self,msg): #定义构造方法\n",
    "        self.msg=msg\n",
    "    def __str__(self): #将UserError类对象转换为字符串时自动调用该方法\n",
    "        return self.msg\n",
    "if __name__=='__main__':\n",
    "    try:\n",
    "        raise UserError('user defined error')\n",
    "    except UserError as e:\n",
    "        print(e)"
   ]
  },
  {
   "cell_type": "code",
   "execution_count": null,
   "metadata": {},
   "outputs": [],
   "source": [
    "import os\n",
    "path=input()\n",
    "if os.path.isabs(path):\n",
    "    print('yes')\n",
    "else:\n",
    "    print('no')"
   ]
  },
  {
   "cell_type": "code",
   "execution_count": null,
   "metadata": {},
   "outputs": [],
   "source": [
    "import os\n",
    "path=input()\n",
    "rlt = os.path.splitext(path)\n",
    "print(rlt[1])"
   ]
  },
  {
   "cell_type": "code",
   "execution_count": null,
   "metadata": {},
   "outputs": [],
   "source": [
    "str=input()\n",
    "try:\n",
    "    print(eval(str))\n",
    "except:\n",
    "    print('invalid')"
   ]
  },
  {
   "cell_type": "code",
   "execution_count": null,
   "metadata": {},
   "outputs": [],
   "source": [
    "s=input()\n",
    "try:\n",
    "    rlt=int(s)\n",
    "    print('yes')\n",
    "except:\n",
    "    try:\n",
    "        rlt=float(s)\n",
    "        print('no')\n",
    "    except:\n",
    "        print('invalid')"
   ]
  },
  {
   "cell_type": "code",
   "execution_count": null,
   "metadata": {},
   "outputs": [],
   "source": [
    "n=int(input())\n",
    "try:\n",
    "    assert n%2!=0\n",
    "    print('yes')\n",
    "except AssertionError:\n",
    "    print('no')"
   ]
  },
  {
   "cell_type": "code",
   "execution_count": 7,
   "metadata": {},
   "outputs": [
    {
     "output_type": "stream",
     "name": "stdout",
     "text": "[0]\n"
    }
   ],
   "source": [
    "def findsubstr(str,sub):\n",
    "    beg=0\n",
    "    rlt=[]\n",
    "    while True:\n",
    "        try:\n",
    "            pos=str.index(sub,beg)\n",
    "            rlt.append(pos)\n",
    "            beg=pos+1\n",
    "        except ValueError:\n",
    "            break\n",
    "    return rlt\n",
    "     \n",
    "s1=input()\n",
    "s2=input()\n",
    "rlt=findsubstr(s1,s2)\n",
    "if len(rlt)==0:\n",
    "    print('notfound')\n",
    "else:\n",
    "    print(rlt)"
   ]
  },
  {
   "cell_type": "code",
   "execution_count": null,
   "metadata": {},
   "outputs": [],
   "source": []
  }
 ],
 "metadata": {
  "language_info": {
   "codemirror_mode": {
    "name": "ipython",
    "version": 3
   },
   "file_extension": ".py",
   "mimetype": "text/x-python",
   "name": "python",
   "nbconvert_exporter": "python",
   "pygments_lexer": "ipython3",
   "version": "3.7.4-final"
  },
  "orig_nbformat": 2,
  "kernelspec": {
   "name": "python3",
   "display_name": "Python 3"
  }
 },
 "nbformat": 4,
 "nbformat_minor": 2
}