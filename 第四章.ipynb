{
 "cells": [
  {
   "cell_type": "code",
   "execution_count": null,
   "metadata": {},
   "outputs": [],
   "source": [
    "#改错\n",
    "class Student:\n",
    "    def __init__(self,name=\"unknown\"):\n",
    "        self.name=name\n",
    "    def PrintInfo(self):\n",
    "        print(self.name)\n",
    "if __name__=='__main__':\n",
    "    stu1=Student()\n",
    "    stu2=Student('Marry')\n",
    "    stu1.PrintInfo()\n",
    "    stu2.PrintInfo()"
   ]
  },
  {
   "cell_type": "code",
   "execution_count": null,
   "metadata": {},
   "outputs": [],
   "source": [
    "class Student:\n",
    "    def __init__(self,name):\n",
    "        self.name=name\n",
    "    def __del__(self):\n",
    "        print(self.name)\n",
    "if __name__=='__main__':\n",
    "    stu1=Student('Li Xiaoming')\n",
    "    stu2=Student('Ma Hong')\n",
    "    stu3=stu2\n",
    "    del stu2\n",
    "    del stu1\n",
    "    #在notebook中可能不会出现最后一行输出"
   ]
  },
  {
   "cell_type": "code",
   "execution_count": null,
   "metadata": {},
   "outputs": [],
   "source": [
    "class Time:\n",
    "    def __init__(self,h,m,s):\n",
    "        self.h=h\n",
    "        self.m=m\n",
    "        self.s=s\n",
    "    def __eq__(self,other):\n",
    "        return self.h==other.h and self.m==other.m and self.s==other.s\n",
    "    def __ne__(self,other):\n",
    "        return self.h!=other.h or self.m!=other.m or self.s!=other.s\n",
    "if __name__=='__main__':\n",
    "    t1=Time(8,10,15)\n",
    "    t2=Time(8,10,15)\n",
    "    t3=Time(9,12,30)\n",
    "    print(t1==t2)\n",
    "    print(t1!=t3)"
   ]
  },
  {
   "cell_type": "code",
   "execution_count": null,
   "metadata": {},
   "outputs": [],
   "source": [
    "class A:\n",
    "    def fa(self):\n",
    "        print('A')\n",
    "class B(A):\n",
    "    def fb(self):\n",
    "        print('B')\n",
    "if __name__=='__main__':\n",
    "    b=B()\n",
    "    b.fa()\n",
    "    b.fb()"
   ]
  },
  {
   "cell_type": "code",
   "execution_count": null,
   "metadata": {},
   "outputs": [],
   "source": [
    "class A:\n",
    "    def display(self):\n",
    "        print('A')\n",
    "class B:\n",
    "    def display(self):\n",
    "        print('B')\n",
    "def func(a):\n",
    "    a.display()\n",
    "if __name__=='__main__':\n",
    "    a=A()\n",
    "    b=B()\n",
    "    func(a)\n",
    "    func(b)"
   ]
  },
  {
   "cell_type": "code",
   "execution_count": null,
   "metadata": {},
   "outputs": [],
   "source": [
    "class A:\n",
    "    def display(self):\n",
    "        print('A',end='')\n",
    "class B(A):\n",
    "    def display(self):\n",
    "        print('B',end='')\n",
    "        super().display()\n",
    "class C(B):\n",
    "    def display(self):\n",
    "        print('C',end='')\n",
    "        super().display()\n",
    "if __name__=='__main__':\n",
    "    c=C()\n",
    "    c.display()"
   ]
  },
  {
   "cell_type": "code",
   "execution_count": null,
   "metadata": {},
   "outputs": [],
   "source": [
    "class C:\n",
    "    @classmethod\n",
    "    def add(self,x,y):\n",
    "        return x+y\n",
    "    @staticmethod\n",
    "    def sub(x,y):\n",
    "        return x-y\n",
    "if __name__=='__main__':\n",
    "    print(C.add(5,3))\n",
    "    print(C.sub(5,3))"
   ]
  },
  {
   "cell_type": "code",
   "execution_count": null,
   "metadata": {},
   "outputs": [],
   "source": [
    "from types import MethodType\n",
    "class A:\n",
    "    def __init__(self,val):\n",
    "        self.val=val\n",
    "def func(self):\n",
    "    print(self.val)\n",
    "if __name__=='__main__':\n",
    "    a=A(1)\n",
    "    a.func=MethodType(func,a)\n",
    "    a.func()"
   ]
  },
  {
   "cell_type": "code",
   "execution_count": null,
   "metadata": {},
   "outputs": [],
   "source": [
    "class A:\n",
    "    @property\n",
    "    def t(self):\n",
    "        return self._t\n",
    "    @t.setter\n",
    "    def t(self,t):\n",
    "        self._t=t\n",
    "if __name__=='__main__':\n",
    "    a=A()\n",
    "    a.t=10\n",
    "    print(a.t)"
   ]
  },
  {
   "cell_type": "code",
   "execution_count": null,
   "metadata": {},
   "outputs": [],
   "source": [
    "class Student:\n",
    "    def SetName(self,newname):\n",
    "        self.name=newname\n",
    "if __name__=='__main__':\n",
    "    stu=Student()\n",
    "    stu.SetName('Marry')\n",
    "    print(stu.name)"
   ]
  },
  {
   "cell_type": "code",
   "execution_count": 18,
   "metadata": {},
   "outputs": [
    {
     "output_type": "stream",
     "name": "stdout",
     "text": "center:(5.00,3.00),radius:2.00\narea:12.57\n"
    }
   ],
   "source": [
    "#补充练习\n",
    "import math\n",
    "#请在此处补充Circle类定义的代码（提示：计算圆面积时使用math.pi获取圆周率）\n",
    "class Circle():\n",
    "    def SetCenter(self,x,y):\n",
    "        self.x=x\n",
    "        self.y=y\n",
    "    def SetRadius(self,radius):\n",
    "        self.r=radius\n",
    "    def GetArea(self):\n",
    "        return math.pi*self.r**2\n",
    "\n",
    "if __name__=='__main__':\n",
    "    x=eval(input()) #输入圆心的x坐标\n",
    "    y=eval(input()) #输入圆心的y坐标\n",
    "    r=eval(input()) #输入半径\n",
    "    c=Circle() #创建Cirle对象\n",
    "    c.SetCenter(x,y) #设置圆心\n",
    "    c.SetRadius(r) #设置半径\n",
    "    print('center:(%.2f,%.2f),radius:%.2f'%(c.x,c.y,c.r)) #输出圆心和半径\n",
    "    print('area:%.2f'%c.GetArea()) #输出面积\n"
   ]
  },
  {
   "cell_type": "code",
   "execution_count": 23,
   "metadata": {},
   "outputs": [
    {
     "output_type": "stream",
     "name": "stdout",
     "text": "01:59:59\n02:00:00\n02:00:01\n02:00:02\n02:00:03\n02:00:04\n"
    }
   ],
   "source": [
    "#请在此处写出Time类定义的代码\n",
    "class Time():\n",
    "    def SetTime(self,h,m,s):\n",
    "        self.h=h\n",
    "        self.m=m\n",
    "        self.s=s\n",
    "    def AddOneSec(self):\n",
    "        if self.s==59:\n",
    "            if self.m==59:\n",
    "                if self.h==23:\n",
    "                    self.h=0\n",
    "                    self.m=0\n",
    "                    self.s=0\n",
    "                else:\n",
    "                    self.h+=1\n",
    "                    self.m=0\n",
    "                    self.s=0\n",
    "            else:\n",
    "                self.m+=1\n",
    "                self.s=0\n",
    "        else:\n",
    "            self.s+=1\n",
    "\n",
    "if __name__=='__main__':\n",
    "    h=int(input()) #输入时\n",
    "    m=int(input()) #输入分\n",
    "    s=int(input()) #输入秒\n",
    "    count=int(input()) #输入要数的秒数\n",
    "    t=Time()\n",
    "    t.SetTime(h,m,s)\n",
    "    for i in range(count):\n",
    "        print('%02d:%02d:%02d'%(t.h,t.m,t.s)) #输出当前时间\n",
    "        t.AddOneSec()"
   ]
  },
  {
   "cell_type": "code",
   "execution_count": 24,
   "metadata": {},
   "outputs": [
    {
     "output_type": "stream",
     "name": "stdout",
     "text": "radius:1.00,height:2.00\nvolume:6.28\n"
    }
   ],
   "source": [
    "import math\n",
    "#请在此处写出Cylinder类定义的代码（提示：计算体积时使用math.pi作为圆周率）\n",
    "class Cylinder():\n",
    "    def __init__(self,r,h):\n",
    "        self.r=r\n",
    "        self.h=h\n",
    "    def GetVolume(self):\n",
    "        return math.pi*h*r**2\n",
    "\n",
    "if __name__=='__main__':\n",
    "    r=eval(input()) #输入半径\n",
    "    h=eval(input()) #输入高\n",
    "    c=Cylinder(r,h) #创建Cylinder对象\n",
    "    print('radius:%.2f,height:%.2f'%(c.r,c.h)) #输出半径和高\n",
    "    print('volume:%.2f'%c.GetVolume()) #输出体积"
   ]
  },
  {
   "cell_type": "code",
   "execution_count": null,
   "metadata": {},
   "outputs": [],
   "source": []
  }
 ],
 "metadata": {
  "language_info": {
   "codemirror_mode": {
    "name": "ipython",
    "version": 3
   },
   "file_extension": ".py",
   "mimetype": "text/x-python",
   "name": "python",
   "nbconvert_exporter": "python",
   "pygments_lexer": "ipython3",
   "version": "3.7.4-final"
  },
  "orig_nbformat": 2,
  "kernelspec": {
   "name": "python3",
   "display_name": "Python 3"
  }
 },
 "nbformat": 4,
 "nbformat_minor": 2
}