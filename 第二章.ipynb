{
 "nbformat": 4,
 "nbformat_minor": 2,
 "metadata": {
  "language_info": {
   "name": "python",
   "codemirror_mode": {
    "name": "ipython",
    "version": 3
   },
   "version": "3.7.4-final"
  },
  "orig_nbformat": 2,
  "file_extension": ".py",
  "mimetype": "text/x-python",
  "name": "python",
  "npconvert_exporter": "python",
  "pygments_lexer": "ipython3",
  "version": 3,
  "kernelspec": {
   "name": "python3",
   "display_name": "Python 3"
  }
 },
 "cells": [
  {
   "cell_type": "code",
   "execution_count": null,
   "metadata": {},
   "outputs": [],
   "source": [
    "#2.1.1\n",
    "n=eval(input())\n",
    "if n%2==0:\n",
    "    print(\"even number\")\n",
    "else:\n",
    "    print(\"odd number\")"
   ]
  },
  {
   "cell_type": "code",
   "execution_count": null,
   "metadata": {},
   "outputs": [],
   "source": [
    "#2.2.1\n",
    "n = eval(input()) #项数\n",
    "sum = 0\n",
    "for i in range(1,n+1):\n",
    "    a = ((-1)**(i-1))/(2*i-1)\n",
    "    sum += a\n",
    "print(\"%.2f\"%sum)"
   ]
  },
  {
   "cell_type": "code",
   "execution_count": null,
   "metadata": {},
   "outputs": [],
   "source": [
    "#2轮开课补充\n",
    "val=eval(input())\n",
    "if val<0:\n",
    "    val*=-1\n",
    "print(val)"
   ]
  },
  {
   "cell_type": "code",
   "execution_count": null,
   "metadata": {},
   "outputs": [],
   "source": [
    "n=eval(input())\n",
    "i,sum=1,0\n",
    "while i<=n:\n",
    "    sum+=i\n",
    "    i+=1\n",
    "print(sum)"
   ]
  },
  {
   "cell_type": "code",
   "execution_count": null,
   "metadata": {},
   "outputs": [],
   "source": [
    "n=eval(input())\n",
    "i,rlt=1,1\n",
    "while i<=n:\n",
    "    rlt*=i\n",
    "    i+=1\n",
    "print(rlt)"
   ]
  },
  {
   "cell_type": "code",
   "execution_count": null,
   "metadata": {},
   "outputs": [],
   "source": [
    "y = eval(input())\n",
    "if y%400==0:\n",
    "    print(\"yes\")\n",
    "elif y%100==0 or y%4!=0:\n",
    "    print(\"no\")\n",
    "else:\n",
    "    print(\"yes\")\n"
   ]
  },
  {
   "cell_type": "code",
   "execution_count": null,
   "metadata": {},
   "outputs": [],
   "source": [
    "n=eval(input())\n",
    "if n<=2 and n>1:\n",
    "    print(x+2.5)\n",
    "elif n<=1 and n>=-1:\n",
    "    print(4.35*n)\n",
    "elif n<-1 and n>=-2:\n",
    "    print(n)\n",
    "else:\n",
    "    print(\"invalid\")"
   ]
  },
  {
   "cell_type": "code",
   "execution_count": null,
   "metadata": {},
   "outputs": [],
   "source": [
    "s = eval(input())\n",
    "if 90 <= s <= 100:\n",
    "    print(\"A\")\n",
    "elif 80 <= s <= 89:\n",
    "    print(\"B\")\n",
    "elif 70 <= s <= 79:\n",
    "    print(\"C\")\n",
    "elif 60 <= s <= 69:\n",
    "    print(\"D\")\n",
    "elif 0 <= s <= 59:\n",
    "    print(\"E\")\n",
    "else:\n",
    "    print(\"invalid\")"
   ]
  },
  {
   "cell_type": "code",
   "execution_count": 2,
   "metadata": {},
   "outputs": [
    {
     "name": "stdout",
     "output_type": "stream",
     "text": "9\n"
    }
   ],
   "source": [
    "n = eval(input())\n",
    "k = 1\n",
    "sum = 0\n",
    "\n",
    "for i in range (1,n+1):\n",
    "    k *= i\n",
    "    sum += k\n",
    "print(sum)"
   ]
  },
  {
   "cell_type": "code",
   "execution_count": 8,
   "metadata": {},
   "outputs": [
    {
     "name": "stdout",
     "output_type": "stream",
     "text": "0,0,5\n0,1,0\n2\n"
    }
   ],
   "source": [
    "n = eval(input())\n",
    "count = 0\n",
    "for t in range(n//10+1):\n",
    "    for f in range(n//5+1):\n",
    "        o=n-10*t-5*f\n",
    "        if o >=0 :\n",
    "            print('%d,%d,%d' %(t,f,o))\n",
    "            count+=1\n",
    "print(count)"
   ]
  },
  {
   "cell_type": "code",
   "execution_count": 20,
   "metadata": {},
   "outputs": [
    {
     "name": "stdout",
     "output_type": "stream",
     "text": "not found\n"
    }
   ],
   "source": [
    "beg=eval(input())\n",
    "end=eval(input())\n",
    "status=False\n",
    "for i in range(beg,end+1):\n",
    "    a=i//100\n",
    "    b=(i-100*a)//10\n",
    "    c=i-100*a-10*b\n",
    "    if a**3+b**3+c**3==i:\n",
    "        status=True\n",
    "        print(i)\n",
    "if not status:\n",
    "    print('not found')"
   ]
  },
  {
   "cell_type": "code",
   "execution_count": 28,
   "metadata": {},
   "outputs": [
    {
     "name": "stdout",
     "output_type": "stream",
     "text": "2\n3\n5\n7\n"
    }
   ],
   "source": [
    "def f(n):\n",
    "    status=True\n",
    "    for i in range(1,n):\n",
    "        if n%i==0 and i != 1:\n",
    "            status=False\n",
    "            break\n",
    "    if status:\n",
    "        print(n)\n",
    "\n",
    "n = eval(input())\n",
    "for i in range(2,n+1):\n",
    "    f(i)"
   ]
  },
  {
   "cell_type": "code",
   "execution_count": null,
   "metadata": {},
   "outputs": [],
   "source": []
  }
 ]
}