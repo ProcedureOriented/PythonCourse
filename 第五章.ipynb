{
 "cells": [
  {
   "cell_type": "code",
   "execution_count": 43,
   "metadata": {
    "tags": [
     "outputPrepend"
    ]
   },
   "outputs": [
    {
     "output_type": "stream",
     "name": "stdout",
     "text": "[0, 3]\n"
    }
   ],
   "source": [
    "find=eval(input())\n",
    "lsLen=eval(input())\n",
    "ls=[]\n",
    "for i in range(lsLen): #生成列表\n",
    "    ls.append(eval(input()))\n",
    "result=[]\n",
    "try: #报错测试\n",
    "    re_index=0\n",
    "    while True:\n",
    "        re_index=ls.index(find,re_index)+1 #查找并生成索引\n",
    "        result.append(re_index-1) #写入列表\n",
    "except: #在剩余的范围内查不到元素时的报错\n",
    "        print(result)"
   ]
  },
  {
   "cell_type": "code",
   "execution_count": 41,
   "metadata": {},
   "outputs": [
    {
     "output_type": "stream",
     "name": "stdout",
     "text": "[3]\n"
    }
   ],
   "source": [
    "find=input()\n",
    "lsLen=eval(input())\n",
    "ls=[]\n",
    "for i in range(lsLen): #生成列表\n",
    "    ls.append(input())\n",
    "ls.append(find) #列表后加一个要查找的元素以防报错，这里假设它叫“安全元素”\n",
    "result=[] #创建输出结果的列表\n",
    "re_index=ls.index(find) #查找第一个元素\n",
    "while re_index<lsLen: #如果不是“安全元素”\n",
    "        result.append(re_index) #结果列表里写入查找的索引\n",
    "        re_index=ls.index(find,re_index+1) #从查找到的元素的下一个元素开始继续向后查找\n",
    "print(result)"
   ]
  },
  {
   "cell_type": "code",
   "execution_count": null,
   "metadata": {},
   "outputs": [],
   "source": [
    "find=eval(input())\n",
    "lsLen=eval(input())\n",
    "ls=[]\n",
    "for i in range(lsLen): #生成列表\n",
    "    ls.append(eval(input()))\n",
    "result=[]\n",
    "try: #报错测试\n",
    "    re_index=0\n",
    "    while True:\n",
    "        re_index=ls.index(find,re_index)+1 #查找并生成索引\n",
    "        result.append(re_index) #写入列表\n",
    "except: #在剩余的范围内查不到元素时的报错\n",
    "        print(result)"
   ]
  },
  {
   "cell_type": "code",
   "execution_count": null,
   "metadata": {},
   "outputs": [],
   "source": [
    "import copy\n",
    "a=[[1.2,True],'Python']\n",
    "b=copy.deepcopy(a)\n",
    "a[0][0]=3.5\n",
    "print(b)"
   ]
  },
  {
   "cell_type": "code",
   "execution_count": 2,
   "metadata": {},
   "outputs": [
    {
     "output_type": "stream",
     "name": "stdout",
     "text": "a:30,b:15\na:20,b:10\na:10,b:20\n"
    }
   ],
   "source": [
    "class A:\n",
    "    def __init__(self,a,b):\n",
    "        self.a=a\n",
    "        self.b=b\n",
    "if __name__=='__main__':\n",
    "    ls=[A(10,20), A(30,15), A(20,10)]\n",
    "    ls.sort(key=lambda A: A.a, reverse=True)\n",
    "    for x in ls:\n",
    "        print('a:%d,b:%d'%(x.a,x.b))"
   ]
  },
  {
   "cell_type": "code",
   "execution_count": 4,
   "metadata": {},
   "outputs": [
    {
     "output_type": "stream",
     "name": "stdout",
     "text": "True\nTrue\n"
    }
   ],
   "source": [
    "s=set([1,20,300])\n",
    "s.update((1,2))\n",
    "print(2 in s)\n",
    "s.add((1,2))\n",
    "print((1,2) in s)"
   ]
  },
  {
   "cell_type": "code",
   "execution_count": null,
   "metadata": {},
   "outputs": [],
   "source": [
    "def primelist(n):\n",
    "    for i in range(2,n+1):\n",
    "        m=int(i**0.5)\n",
    "        for j in range(2,m+1):\n",
    "            if i%j==0:\n",
    "                break\n",
    "        else:\n",
    "            【1】\n",
    "if __name__=='__main__':\n",
    "    n=eval(input())\n",
    "    for i in 【2】:\n",
    "        print(i, end=' ')\n"
   ]
  },
  {
   "cell_type": "code",
   "execution_count": 5,
   "metadata": {},
   "outputs": [
    {
     "output_type": "stream",
     "name": "stdout",
     "text": "3 5 7 9 11"
    }
   ],
   "source": [
    "class seq:\n",
    "    def __init__(self, beg, step):\n",
    "        self.val=beg\n",
    "        self.step=step\n",
    "    def __next__(self):\n",
    "        oldval=self.val\n",
    "        self.val+=self.step\n",
    "        return oldval\n",
    "    def __iter__(self):\n",
    "        return self\n",
    "if __name__=='__main__':\n",
    "    s=seq(3,2)\n",
    "    for i in range(5):\n",
    "        print(next(s),end=' ')"
   ]
  },
  {
   "cell_type": "code",
   "execution_count": 6,
   "metadata": {},
   "outputs": [],
   "source": [
    "def sortasc(ls):\n",
    "    for i in range(len(ls)-1):\n",
    "        minval=min(ls[i:])\n",
    "        idx=ls[i:].index(minval)+i\n",
    "        if idx!=i:\n",
    "            ls[i],ls[idx]=ls[idx],ls[i]\n",
    "        print(ls)\n",
    "if __name__=='__main__':\n",
    "    n=eval(input())\n",
    "    ls = []\n",
    "    for i in range(n):\n",
    "        ls.append(eval(input()))\n",
    "    sortasc(ls)"
   ]
  },
  {
   "cell_type": "code",
   "execution_count": null,
   "metadata": {},
   "outputs": [],
   "source": [
    "def is_magicsquare(ls):\n",
    "    sum_set = set()\n",
    "    element_set = set()\n",
    "    diag_sum,rdiag_sum=0,0\n",
    "    for rowidx in range(len(ls)):\n",
    "        diag_sum += ls[rowidx][rowidx]\n",
    "        rdiag_sum += ls[rowidx][len(ls)-1-rowidx]\n",
    "        row_sum,col_sum=0,0\n",
    "        for colidx in range(len(ls[rowidx])):\n",
    "            element_set.add(ls[rowidx][colidx])\n",
    "            row_sum += ls[rowidx][colidx]\n",
    "            col_sum += ls[colidx][rowidx]\n",
    "        sum_set.add(row_sum)\n",
    "        sum_set.add(col_sum)\n",
    "        if len(element_set)!=(rowidx+1)*len(ls[rowidx]):\n",
    "            return False\n",
    "        if len(sum_set)>1:\n",
    "            return False\n",
    "    sum_set.add(diag_sum)\n",
    "    sum_set.add(rdiag_sum)\n",
    "    if len(sum_set)>1:\n",
    "        return False\n",
    "    return True\n",
    "             \n",
    "if __name__=='__main__':\n",
    "    n = eval(input())\n",
    "    ls = []\n",
    "    for i in range(n):\n",
    "        ls.append(list(eval(input())))\n",
    "    #print(ls)\n",
    "    if is_magicsquare(ls)==True:\n",
    "        print('Yes')\n",
    "    else:\n",
    "        print('No')"
   ]
  },
  {
   "cell_type": "code",
   "execution_count": null,
   "metadata": {},
   "outputs": [],
   "source": [
    "n = int(input())\n",
    "d = {}\n",
    "for i in range(n):\n",
    "    eng = input()\n",
    "    a = input()\n",
    "    d[a] = eng\n",
    "m = int(input())\n",
    "for i in range(m):\n",
    "    a = input()\n",
    "    if a in d:\n",
    "        print(d[a])\n",
    "    else:\n",
    "        print('notfound')"
   ]
  }
 ],
 "metadata": {
  "language_info": {
   "codemirror_mode": {
    "name": "ipython",
    "version": 3
   },
   "file_extension": ".py",
   "mimetype": "text/x-python",
   "name": "python",
   "nbconvert_exporter": "python",
   "pygments_lexer": "ipython3",
   "version": "3.7.4-final"
  },
  "orig_nbformat": 2,
  "kernelspec": {
   "name": "python3",
   "display_name": "Python 3"
  }
 },
 "nbformat": 4,
 "nbformat_minor": 2
}