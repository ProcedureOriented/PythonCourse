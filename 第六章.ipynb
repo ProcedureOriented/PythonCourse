{
 "cells": [
  {
   "cell_type": "code",
   "execution_count": null,
   "metadata": {},
   "outputs": [],
   "source": [
    "class Time:\n",
    "    def __init__(self,hour,minute,second):\n",
    "        self.hour=hour\n",
    "        self.minute=minute\n",
    "        self.second=second\n",
    "t=Time(8,1,25)\n",
    "str1='{0.hour}:{0.minute}:{0.second}'\n",
    "str2='{t.hour}:{t.minute}:{t.second}'\n",
    "print(str1.format(t))\n",
    "print(str2.format(t=t))"
   ]
  },
  {
   "cell_type": "code",
   "execution_count": null,
   "metadata": {},
   "outputs": [],
   "source": [
    "import re\n",
    "pattern=re.compile(r'<[^<]*>')\n",
    "result=pattern.match('<h1>Nankai University</h1>')\n",
    "print('content:%s,beg:%d,end:%d'%(result.group(),result.start(),result.end()))"
   ]
  },
  {
   "cell_type": "code",
   "execution_count": null,
   "metadata": {},
   "outputs": [],
   "source": [
    "def findsubstr(str,sub):\n",
    "    beg=0\n",
    "    rlt=[]\n",
    "    while True:\n",
    "        pos=str.find(sub,beg)\n",
    "        if pos==-1:\n",
    "            break\n",
    "        rlt.append(pos)\n",
    "        beg=pos+1\n",
    "    return rlt\n",
    "if __name__=='__main__':\n",
    "    s1=input()\n",
    "    s2=input()\n",
    "    r=findsubstr(s1,s2)\n",
    "    for v in r:\n",
    "        print(v)"
   ]
  },
  {
   "cell_type": "code",
   "execution_count": null,
   "metadata": {},
   "outputs": [],
   "source": [
    "str = input()\n",
    "ls = str.split()\n",
    "sum = 0\n",
    "for v in ls:\n",
    "    sum += eval(v)\n",
    "print(sum)"
   ]
  },
  {
   "cell_type": "code",
   "execution_count": null,
   "metadata": {},
   "outputs": [],
   "source": [
    "n=int(input())\n",
    "ls = []\n",
    "for i in range(n):\n",
    "    ls.append(input())\n",
    "ls.sort(reverse=False)\n",
    "for i in range(n-1):\n",
    "    if ls[i+1].find(ls[i])==0:\n",
    "        print('invalid')\n",
    "        break\n",
    "else:\n",
    "    print('valid')"
   ]
  },
  {
   "cell_type": "code",
   "execution_count": null,
   "metadata": {},
   "outputs": [],
   "source": [
    "import re\n",
    "str=input()\n",
    "rlt=re.findall(r'<a href=\"([^\"]*?)\"', str, re.I)\n",
    "if rlt:\n",
    "    for i in range(len(rlt)):\n",
    "        print(rlt[i])"
   ]
  }
 ],
 "metadata": {
  "language_info": {
   "codemirror_mode": {
    "name": "ipython",
    "version": 3
   },
   "file_extension": ".py",
   "mimetype": "text/x-python",
   "name": "python",
   "nbconvert_exporter": "python",
   "pygments_lexer": "ipython3",
   "version": 3
  },
  "orig_nbformat": 2
 },
 "nbformat": 4,
 "nbformat_minor": 2
}